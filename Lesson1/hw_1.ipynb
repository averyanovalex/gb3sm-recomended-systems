{
 "cells": [
  {
   "cell_type": "markdown",
   "metadata": {},
   "source": [
    "# Домашка 1"
   ]
  },
  {
   "cell_type": "markdown",
   "metadata": {},
   "source": [
    "### Задание 1\n",
    "Сравните метрики hit_rate@k, precision@k.  \n",
    "Какую метрику использовать предпочтительно и почему?  \n",
    "Приведите пример 2-3 задач (опишите, что является клиентом, что товаром), в которой более уместно использовать метрику hit_rate?\n"
   ]
  },
  {
   "cell_type": "markdown",
   "metadata": {},
   "source": [
    "__Ответ:__\n",
    "hit_rate@k имеет два возможных значения, \"попали\" мы хоть как-то с нашими рекомендациями, есть ли в них хоть один релевантный товар. precision@k в свою очередь учитывает процент релевантных рекомендаций. Например, для рекомендаций из 5 товаров, если мы угадали только с 1 товаром, hit_rate@k = 1, precision@k = 20%.  Если угадали с 2 товарами, то hit_rate@k = 1, precision@k = 40%\n",
    "\n",
    "Очевидно, что precision@k в большинстве использовать преподчительно.\n",
    "\n",
    "Я думаю, hit_rate@k использовать предпочтительно, там где покупатель, может купить только 1 товар из 5 рекомендованных. Например, при рекомендации объектов недвижимости, или автомобилей, или яхт. precision@5, например, в этих случаях не будет выше 20%. Соответственно его легко заменить hit_rate@5 без потери качества. Заодно это немного снизит вычислительную нагрузку, и возможно, необходимую сложность модели для качественных предсказаний."
   ]
  },
  {
   "cell_type": "markdown",
   "metadata": {},
   "source": [
    "### Задание 2\n",
    "В метрике NDCG@k мы используем логарифм в знаменателе. Как Вы думаете, почему именно логарифм? Какую функцию можно использовать вместо логарифма? Привидите пример метрик/подходов к предобработке данных/функций ошибок в ML, где также в  логарифм.\n",
    "\n"
   ]
  },
  {
   "cell_type": "markdown",
   "metadata": {},
   "source": [
    "__Ответ:__\n",
    "\n",
    "Как было рассказано в одной статье, использование логарифма в знаменателе очень хорошо решает задачу различного веса рекомендованных товаров на разных позициях. Товар, в списке рекомендаций на 1 месте имеет значительно больший вес, чем товар на 11 позиции. В той же поисковой выдаче, между ними может быть целая пропасть. Логарифм в знаметеле хорошо решает эту задачу существенно понижая вес каждого товара, чем выше номер его позиции в списке рекомендаций.\n",
    "\n",
    "Вместо 1/log можно использовать $e^{-x}$, или $\\frac{1}{x}$. Графики функций похожи. Единственное, что две последних быстрее достигают асимптоты (выходят \"на прямую\"), но для количества рекомендаций в несколько десятков, этого может быть достаточно. \n",
    "\n",
    "В качестве примера, где еще используется логарифм, можно привести логарифмическую функцию потерь. переход к логарифмичекой функции используется, чтобы уйти от недиференцируемой функции к дифферинцируемой "
   ]
  },
  {
   "cell_type": "code",
   "execution_count": 239,
   "metadata": {},
   "outputs": [
    {
     "name": "stderr",
     "output_type": "stream",
     "text": [
      "<ipython-input-239-9f723d5b414b>:7: RuntimeWarning: divide by zero encountered in true_divide\n",
      "  ax.plot(x, 1/np.log2(x), label='1/log2')\n"
     ]
    },
    {
     "data": {
      "image/png": "[encoded data removed]",
      "text/plain": [
       "<Figure size 720x360 with 1 Axes>"
      ]
     },
     "metadata": {
      "needs_background": "light"
     },
     "output_type": "display_data"
    }
   ],
   "source": [
    "import numpy as np\n",
    "import matplotlib.pyplot as plt\n",
    " \n",
    "fig, ax = plt.subplots(figsize=(10, 5), )\n",
    "\n",
    "x = np.arange(20)+1\n",
    "ax.plot(x, 1/np.log2(x), label='1/log2')\n",
    "ax.plot(x, np.exp(-x), label='e^-x')\n",
    "ax.plot(x, 1/x, label='1/x')\n",
    "\n",
    "ax.legend(loc='upper right')\n",
    "plt.show();"
   ]
  },
  {
   "cell_type": "markdown",
   "metadata": {},
   "source": [
    "### Задание 3\n",
    "Какие еще метрики (Вы можете вспомнить уже пройденные Вами или посмотреть в интернете) могут использоваться для рекомендательных систем (приведите примеры метрики **и чем являются интеракции**, чтобы она могла быть использована)."
   ]
  },
  {
   "cell_type": "markdown",
   "metadata": {},
   "source": [
    "__Ответ:__\n",
    "\n",
    "Для начала сравним map@K и NDCG@K. Важное их отличие, что интеракции для первой могут быть бинарными (нравится, не нравится), для второй могут быть не бинарными (оценка за фильм от 0 до 10 баллов, например).\n",
    "\n",
    "Метрика ERR допускает не бинарные виды интеракций\n",
    "\n",
    "Метрика MRR@K допускает только бинарные виды интеракций "
   ]
  },
  {
   "cell_type": "markdown",
   "metadata": {},
   "source": [
    "### Задание 4\n",
    "\n",
    "boughted = [1, 3, 5, 7, 9, 11]  \n",
    "recommended = [2, 5, 7, 4, 11, 9, 8, 10, 12, 3]  \n",
    "Посчитайте на этих данных pr@8, rec@8, AP@8, NDCG@8, MRR@8,  \n",
    "Сначала поссчитайет \"руками\", а затем подтвердите рассчеты с помощью функций (некоторые были на семинаре, некоторые нужно будут написать самостоятельно)\n",
    "\n",
    "IDCG должен считаться для всех 8 позиций рекомендаций"
   ]
  },
  {
   "cell_type": "markdown",
   "metadata": {},
   "source": [
    "**Пример выполнения 4го задания**\n",
    "\n",
    "MSE на  \n",
    "$y = [0, 2]$  \n",
    "$y_{pred} = [1, 2]$\n",
    "\n",
    "MSE = $0.5*((0 - 1)^2 + (2-2)^2) = 0.5$ "
   ]
  },
  {
   "cell_type": "code",
   "execution_count": 4,
   "metadata": {},
   "outputs": [
    {
     "data": {
      "text/plain": [
       "0.5"
      ]
     },
     "execution_count": 4,
     "metadata": {},
     "output_type": "execute_result"
    }
   ],
   "source": [
    "import numpy as np\n",
    "((np.array([0, 2]) - np.array([1, 2]))**2).mean()"
   ]
  },
  {
   "cell_type": "markdown",
   "metadata": {},
   "source": [
    "__Ответ:__\n",
    "\n",
    "__Примечание:__ Функцию ap_k изменил. В методичке, по-моему мнению она содержит ошибки. Писал об этом в общий чат обучения. Дублирую здесь, текст:\n",
    "\n",
    "\n",
    "1.Если мы считаем ap@5 или ap@8 в данной реализации у нас одинаковая длина массива flags. Т.е. мы всегда берем всю длину входного массива recommended_list. И в знаменатель идет одинаковое значение len(flags). А должно быть разное\n",
    "\n",
    "2.Почему мы когда перебираем флаги (совпадения), мы начинаем со второго? И для первого не считаем precision@1? Получается, что если мы молодцы и рекомендация на первой позиции релевантная, это никак не влияет на итоговую метрику. Попадать начинают только со второй. Ну и в конце залетает одна лишняя.\n",
    "\n",
    "На единичку надо увеличивать в строке:\n",
    "p_k = precision_at_k(recommended_list, bought_list, k=i+1). А изначальный перебор флагов должен быть от range(0,k)"
   ]
  },
  {
   "cell_type": "code",
   "execution_count": 240,
   "metadata": {},
   "outputs": [],
   "source": [
    "import numpy as np\n",
    "\n",
    "def precision_at_k(recommended_list, bought_list, k=5):\n",
    "    \n",
    "    bought_list = np.array(bought_list)\n",
    "    recommended_list = np.array(recommended_list)\n",
    "    \n",
    "    bought_list = bought_list  # Тут нет [:k] !!\n",
    "    recommended_list = recommended_list[:k]\n",
    "    \n",
    "    flags = np.isin(bought_list, recommended_list)\n",
    "    precision = flags.sum() / len(recommended_list)\n",
    "    \n",
    "    \n",
    "    return precision\n",
    "\n",
    "\n",
    "def recall_at_k(recommended_list, bought_list, k=5):\n",
    "    bought_list = np.array(bought_list)\n",
    "    recommended_list = np.array(recommended_list)[:k]\n",
    "    \n",
    "    flags = np.isin(bought_list, recommended_list)\n",
    "    \n",
    "    recall = flags.sum() / len(bought_list)\n",
    "    \n",
    "    return recall\n",
    "\n",
    "\n",
    "def ap_k(recommended_list, bought_list, k=5):\n",
    "    \n",
    "    bought_list = np.array(bought_list)\n",
    "    recommended_list = np.array(recommended_list)\n",
    "    \n",
    "    flags = np.isin(recommended_list, bought_list)\n",
    "    \n",
    "    if sum(flags) == 0:\n",
    "        return 0\n",
    "    \n",
    "    sum_ = 0\n",
    "    for i in range(0, k): \n",
    "        if flags[i] == True:\n",
    "            p_k = precision_at_k(recommended_list, bought_list, k=i+1)\n",
    "            sum_ += p_k\n",
    "            \n",
    "    result = sum_ / k\n",
    "    \n",
    "    return result"
   ]
  },
  {
   "cell_type": "code",
   "execution_count": 241,
   "metadata": {},
   "outputs": [],
   "source": [
    "def dcg_at_k(recommended_list, bought_list, k=5):\n",
    "    recommended_list = np.array(recommended_list)[:k]\n",
    "    \n",
    "    if len(recommended_list) == 0:\n",
    "        return 0.\n",
    "    \n",
    "    flags = np.isin(recommended_list, bought_list)\n",
    "    \n",
    "    if sum(flags) == 0:\n",
    "        return 0.\n",
    "    \n",
    "    discounts = np.log2(np.arange(2, len(flags)+1, 1))\n",
    "    discounts = np.insert(discounts, 0, 1)   \n",
    "    \n",
    "    return np.sum(flags / discounts) / 8\n",
    "\n",
    "\n",
    "def ndcg_at_k(recommended_list, bought_list, k=5):    \n",
    "    \n",
    "    dcg = dcg_at_k(recommended_list, bought_list, k)\n",
    "    best_dcg = dcg_at_k(np.ones(k), np.ones(1), k)   \n",
    "    return dcg / best_dcg\n",
    "\n",
    "\n",
    "\n",
    "def mean_reciprocal_rank_at_k(recommended_list, bought_list, k=5):\n",
    "    recommended_list = recommended_list[:k]\n",
    "    ranks=0.\n",
    "    for i, item_rec in enumerate(recommended_list):\n",
    "        for item_bought in bought_list:\n",
    "            if item_rec == item_bought:\n",
    "                ranks += 1 / (i+1)\n",
    "    return ranks / len(recommended_list)"
   ]
  },
  {
   "cell_type": "markdown",
   "metadata": {},
   "source": [
    "__Посчитаем вручную:__\n",
    "\n",
    "__1)precision@8__ = (1+1+1+1+1) / 10 = 0.5\n",
    "\n",
    "__2)recall@8__ = (1+1+1+1+1)/6 = 4/6 = 0.66\n",
    "\n",
    "__3)ap@8__\n",
    "\n",
    "релевантны: 0, 1, 1, 0, 1, 1, 0, 0\n",
    "\n",
    "pr@2 = 1/2; pr@3 = 2/3; pr@5 = 3/5; pr@6=4/6\n",
    "\n",
    "ap@8 = (1/2 + 2/3 + 3/5 + 4/6)/8 = 0.3041\n",
    "\n",
    "\n",
    "__4)ndcg@8__\n",
    "\n",
    "dcg@8: 1/8 * (0 + 1/log(2) + 1/log(3) + 0 + 1/log(5) + + 1/log(6) + 0 + 0) = 0.3\n",
    "\n",
    "ideal_dcg@8: 1/8 * (1 + 1/log(2) + 1/log(3) + 1/log(4) + 1/log(5) + + 1/log(6) + 1/log(7) + 1/log(8)) = 0.58\n",
    "\n",
    "ndcg@8 = 0.3 / 0.58 = 0.53\n",
    "\n",
    "\n",
    "__5)mrr@8__ = (1/2 + 1/3 + 1/5 + 1/6)/8 = 0.15\n"
   ]
  },
  {
   "cell_type": "code",
   "execution_count": 242,
   "metadata": {},
   "outputs": [
    {
     "name": "stdout",
     "output_type": "stream",
     "text": [
      "precision@8 = 0.5\n",
      "recall@8 = 0.6666666666666666\n",
      "ap@8 = 0.30416666666666664\n",
      "ndcg@8 = 0.527912744563727\n",
      "mrr@8 = 0.15\n"
     ]
    }
   ],
   "source": [
    "#Теперь кодом\n",
    "\n",
    "boughted = [1, 3, 5, 7, 9, 11]\n",
    "recommended = [2, 5, 7, 4, 11, 9, 8, 10, 12, 3]\n",
    "\n",
    "print('precision@8 =', precision_at_k(recommended, boughted, 8))\n",
    "print('recall@8 =', recall_at_k(recommended, boughted, 8))\n",
    "print('ap@8 =', ap_k(recommended, boughted, 8))\n",
    "print('ndcg@8 =', ndcg_at_k(recommended, boughted, 8))\n",
    "print('mrr@8 =', mean_reciprocal_rank_at_k(recommended, boughted, 8))"
   ]
  },
  {
   "cell_type": "code",
   "execution_count": null,
   "metadata": {},
   "outputs": [],
   "source": []
  }
 ],
 "metadata": {
  "kernelspec": {
   "display_name": "Python 3",
   "language": "python",
   "name": "python3"
  },
  "language_info": {
   "codemirror_mode": {
    "name": "ipython",
    "version": 3
   },
   "file_extension": ".py",
   "mimetype": "text/x-python",
   "name": "python",
   "nbconvert_exporter": "python",
   "pygments_lexer": "ipython3",
   "version": "3.8.3"
  }
 },
 "nbformat": 4,
 "nbformat_minor": 2
}
