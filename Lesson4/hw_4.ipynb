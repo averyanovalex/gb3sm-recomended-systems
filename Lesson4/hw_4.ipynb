{
 "cells": [
  {
   "cell_type": "markdown",
   "metadata": {},
   "source": [
    "# Вебинар 4. Домашнее задание"
   ]
  },
  {
   "cell_type": "markdown",
   "metadata": {},
   "source": [
    "# Домашнее задание"
   ]
  },
  {
   "cell_type": "markdown",
   "metadata": {},
   "source": [
    "1. (+)Изучите структуру модуля src\n",
    "2. (+)Перенесите функции prefilter_items и postfilter_items в модуль src.utils.py\n",
    "3. (+)Реализуйте функции get_similar_items_recommendation, get_similar_users_recommendation (они разбирались на вебинаре) и переместите в src.utils.py.  \n",
    "postfilter можно пока оставить пустой (или как-то бороться с товаром 999999) - на Ваше усмотрение.  \n",
    "В prefilter нужно реализовать закомментированные ограничения.\n",
    "4. (+)Создайте модуль src.recommenders.py. Напишите код для класса ниже и положите его в src.recommenders.py  \n",
    "get_similar_items_recommendation и get_similar_users_recommendation - реализуйте их в качетсве методов класса.  \n",
    "Посчитайте с помощью них рекоменадции и найдите precision@5\n",
    "5. (+)Проверьте, что все модули корректно импортируются\n",
    "6. (+)Если вы еще не прочитали [статью](https://habr.com/ru/company/hh/blog/347276/) о рекомендательных системах и поиске в hh.ru, то обязательно прочитайте\n",
    "\n",
    "**Внимание!** модуль для вашего удобства - дополняйте его теми функциями, которые Вам пригодятся.  \n",
    "Формальное задание только на prefiletr_items "
   ]
  },
  {
   "cell_type": "markdown",
   "metadata": {},
   "source": [
    "__________________________________"
   ]
  },
  {
   "cell_type": "markdown",
   "metadata": {},
   "source": [
    "### Выводы и трудности по домашке\n",
    "\n",
    "1. Захотелось сделать \"более универсальный код\". Т.е. учитывать тот факт, чтобы пользователю не выдавались в рекомендациях 2 одинаковых товара, если он попал в топ у двух похожих пользователей, например. В итоге накрутил дополнительных циклов в процедурах с проверками, искать следующий, если такой уже есть. Но по итогу пришлось подпереть несколькими \"костылями\". Оказалось, что для некоторых пользователей может вылетать 3 рекомендации или 0. А мы хотим предсказывать 5 рекомендаций. Наверное, это связано с тем, что было мало покупок. Или с одним параметром,  о котором будет ниже. В общем пришлось учесть и эти варианты. Код получился так себе, для прода его однозначно надо писать иначе\n",
    "\n",
    "2. Различные варианты префильтра наших данных я реализовал, они работают. Но в конечной версии здесь в домашке выключил все при вызове этой процедуры, кроме нашего привычного Топ5000. Связано это было с поиском причины, описанной в следующем пункте. А времени, на новые опыты больше не осталось ((\n",
    "\n",
    "3. Параметр filter_already_liked_items у ItemRecomender оказался прям откровением! Мы как-то \"молча\" включили его в этом вебинаре и я долго не мог понять, почему так отличается скорр на прошлых уроках и здесь. Оказалось он влияет очень сильно. Писал об этом в чате. Если включить этот параметр, метрика падает до уровня рандомных рекомендаций. Если выключить, получается очень неплохой. В конце методички представлен именно вариант с выключенным параметром filter_already_liked_items и результаты\n",
    "\n",
    "4. Странное поведение наблюдал при взвшенивании матрицы алгоритмом bm25 и без взвешивания. Если матрицу не взвешивать скорость предсказания падает почему-то в разы! Не метрика, а именно скорость работы алгоритма предсказания. Обучение скорость не меняется особо. Если взвешивать, то скорость хорошая. Возможно это тоже связано с тем как \"я готовлю данные\" в методе \"_init_\".\n",
    "\n",
    "5. В целом домашка отняла больше времени, но связано это было с недостаточной практикой в работе с кодом. Почему не запускаетя? Почему тут ошибка? И с подобными проблемами. Но думаю, это важно, проходить через эти трудности самому"
   ]
  },
  {
   "cell_type": "markdown",
   "metadata": {},
   "source": [
    "____________________"
   ]
  },
  {
   "cell_type": "code",
   "execution_count": 1,
   "metadata": {},
   "outputs": [],
   "source": [
    "import pandas as pd\n",
    "import numpy as np\n",
    "import matplotlib.pyplot as plt\n",
    "%matplotlib inline\n",
    "\n",
    "# Для работы с матрицами\n",
    "from scipy.sparse import csr_matrix\n",
    "\n",
    "# Матричная факторизация\n",
    "from implicit.als import AlternatingLeastSquares\n",
    "from implicit.nearest_neighbours import ItemItemRecommender  # нужен для одного трюка\n",
    "from implicit.nearest_neighbours import bm25_weight, tfidf_weight\n",
    "\n",
    "# Функции из 1-ого вебинара\n",
    "import os, sys\n",
    "\n",
    "module_path = os.path.abspath(os.path.join(os.pardir))\n",
    "if module_path not in sys.path:\n",
    "    sys.path.append(module_path)\n",
    "    \n",
    "from src.metrics import precision_at_k, recall_at_k\n",
    "from src.utils import prefilter_items\n",
    "from src.recommenders import MainRecommender"
   ]
  },
  {
   "cell_type": "code",
   "execution_count": 2,
   "metadata": {},
   "outputs": [
    {
     "data": {
      "text/html": [
       "<div>\n",
       "<style scoped>\n",
       "    .dataframe tbody tr th:only-of-type {\n",
       "        vertical-align: middle;\n",
       "    }\n",
       "\n",
       "    .dataframe tbody tr th {\n",
       "        vertical-align: top;\n",
       "    }\n",
       "\n",
       "    .dataframe thead th {\n",
       "        text-align: right;\n",
       "    }\n",
       "</style>\n",
       "<table border=\"1\" class=\"dataframe\">\n",
       "  <thead>\n",
       "    <tr style=\"text-align: right;\">\n",
       "      <th></th>\n",
       "      <th>user_id</th>\n",
       "      <th>basket_id</th>\n",
       "      <th>day</th>\n",
       "      <th>item_id</th>\n",
       "      <th>quantity</th>\n",
       "      <th>sales_value</th>\n",
       "      <th>store_id</th>\n",
       "      <th>retail_disc</th>\n",
       "      <th>trans_time</th>\n",
       "      <th>week_no</th>\n",
       "      <th>coupon_disc</th>\n",
       "      <th>coupon_match_disc</th>\n",
       "    </tr>\n",
       "  </thead>\n",
       "  <tbody>\n",
       "    <tr>\n",
       "      <th>0</th>\n",
       "      <td>2375</td>\n",
       "      <td>26984851472</td>\n",
       "      <td>1</td>\n",
       "      <td>1004906</td>\n",
       "      <td>1</td>\n",
       "      <td>1.39</td>\n",
       "      <td>364</td>\n",
       "      <td>-0.6</td>\n",
       "      <td>1631</td>\n",
       "      <td>1</td>\n",
       "      <td>0.0</td>\n",
       "      <td>0.0</td>\n",
       "    </tr>\n",
       "    <tr>\n",
       "      <th>1</th>\n",
       "      <td>2375</td>\n",
       "      <td>26984851472</td>\n",
       "      <td>1</td>\n",
       "      <td>1033142</td>\n",
       "      <td>1</td>\n",
       "      <td>0.82</td>\n",
       "      <td>364</td>\n",
       "      <td>0.0</td>\n",
       "      <td>1631</td>\n",
       "      <td>1</td>\n",
       "      <td>0.0</td>\n",
       "      <td>0.0</td>\n",
       "    </tr>\n",
       "  </tbody>\n",
       "</table>\n",
       "</div>"
      ],
      "text/plain": [
       "   user_id    basket_id  day  item_id  quantity  sales_value  store_id  \\\n",
       "0     2375  26984851472    1  1004906         1         1.39       364   \n",
       "1     2375  26984851472    1  1033142         1         0.82       364   \n",
       "\n",
       "   retail_disc  trans_time  week_no  coupon_disc  coupon_match_disc  \n",
       "0         -0.6        1631        1          0.0                0.0  \n",
       "1          0.0        1631        1          0.0                0.0  "
      ]
     },
     "execution_count": 2,
     "metadata": {},
     "output_type": "execute_result"
    }
   ],
   "source": [
    "data = pd.read_csv('../Lesson2/data/retail_train.csv')\n",
    "\n",
    "data.columns = [col.lower() for col in data.columns]\n",
    "data.rename(columns={'household_key': 'user_id',\n",
    "                    'product_id': 'item_id'},\n",
    "           inplace=True)\n",
    "\n",
    "\n",
    "test_size_weeks = 3\n",
    "\n",
    "data_train = data[data['week_no'] < data['week_no'].max() - test_size_weeks]\n",
    "data_test = data[data['week_no'] >= data['week_no'].max() - test_size_weeks]\n",
    "\n",
    "data_train.head(2)"
   ]
  },
  {
   "cell_type": "code",
   "execution_count": 3,
   "metadata": {},
   "outputs": [
    {
     "data": {
      "text/html": [
       "<div>\n",
       "<style scoped>\n",
       "    .dataframe tbody tr th:only-of-type {\n",
       "        vertical-align: middle;\n",
       "    }\n",
       "\n",
       "    .dataframe tbody tr th {\n",
       "        vertical-align: top;\n",
       "    }\n",
       "\n",
       "    .dataframe thead th {\n",
       "        text-align: right;\n",
       "    }\n",
       "</style>\n",
       "<table border=\"1\" class=\"dataframe\">\n",
       "  <thead>\n",
       "    <tr style=\"text-align: right;\">\n",
       "      <th></th>\n",
       "      <th>item_id</th>\n",
       "      <th>manufacturer</th>\n",
       "      <th>department</th>\n",
       "      <th>brand</th>\n",
       "      <th>commodity_desc</th>\n",
       "      <th>sub_commodity_desc</th>\n",
       "      <th>curr_size_of_product</th>\n",
       "    </tr>\n",
       "  </thead>\n",
       "  <tbody>\n",
       "    <tr>\n",
       "      <th>0</th>\n",
       "      <td>25671</td>\n",
       "      <td>2</td>\n",
       "      <td>GROCERY</td>\n",
       "      <td>National</td>\n",
       "      <td>FRZN ICE</td>\n",
       "      <td>ICE - CRUSHED/CUBED</td>\n",
       "      <td>22 LB</td>\n",
       "    </tr>\n",
       "    <tr>\n",
       "      <th>1</th>\n",
       "      <td>26081</td>\n",
       "      <td>2</td>\n",
       "      <td>MISC. TRANS.</td>\n",
       "      <td>National</td>\n",
       "      <td>NO COMMODITY DESCRIPTION</td>\n",
       "      <td>NO SUBCOMMODITY DESCRIPTION</td>\n",
       "      <td></td>\n",
       "    </tr>\n",
       "  </tbody>\n",
       "</table>\n",
       "</div>"
      ],
      "text/plain": [
       "   item_id  manufacturer    department     brand            commodity_desc  \\\n",
       "0    25671             2       GROCERY  National                  FRZN ICE   \n",
       "1    26081             2  MISC. TRANS.  National  NO COMMODITY DESCRIPTION   \n",
       "\n",
       "            sub_commodity_desc curr_size_of_product  \n",
       "0          ICE - CRUSHED/CUBED                22 LB  \n",
       "1  NO SUBCOMMODITY DESCRIPTION                       "
      ]
     },
     "execution_count": 3,
     "metadata": {},
     "output_type": "execute_result"
    }
   ],
   "source": [
    "item_features = pd.read_csv('../Lesson2/data/product.csv')\n",
    "item_features.columns = [col.lower() for col in item_features.columns]\n",
    "item_features.rename(columns={'product_id': 'item_id'}, inplace=True)\n",
    "\n",
    "item_features.head(2)"
   ]
  },
  {
   "cell_type": "code",
   "execution_count": 4,
   "metadata": {},
   "outputs": [
    {
     "data": {
      "text/html": [
       "<div>\n",
       "<style scoped>\n",
       "    .dataframe tbody tr th:only-of-type {\n",
       "        vertical-align: middle;\n",
       "    }\n",
       "\n",
       "    .dataframe tbody tr th {\n",
       "        vertical-align: top;\n",
       "    }\n",
       "\n",
       "    .dataframe thead th {\n",
       "        text-align: right;\n",
       "    }\n",
       "</style>\n",
       "<table border=\"1\" class=\"dataframe\">\n",
       "  <thead>\n",
       "    <tr style=\"text-align: right;\">\n",
       "      <th></th>\n",
       "      <th>user_id</th>\n",
       "      <th>actual</th>\n",
       "    </tr>\n",
       "  </thead>\n",
       "  <tbody>\n",
       "    <tr>\n",
       "      <th>0</th>\n",
       "      <td>1</td>\n",
       "      <td>[821867, 834484, 856942, 865456, 889248, 90795...</td>\n",
       "    </tr>\n",
       "    <tr>\n",
       "      <th>1</th>\n",
       "      <td>3</td>\n",
       "      <td>[835476, 851057, 872021, 878302, 879948, 90963...</td>\n",
       "    </tr>\n",
       "  </tbody>\n",
       "</table>\n",
       "</div>"
      ],
      "text/plain": [
       "   user_id                                             actual\n",
       "0        1  [821867, 834484, 856942, 865456, 889248, 90795...\n",
       "1        3  [835476, 851057, 872021, 878302, 879948, 90963..."
      ]
     },
     "execution_count": 4,
     "metadata": {},
     "output_type": "execute_result"
    }
   ],
   "source": [
    "result = data_test.groupby('user_id')['item_id'].unique().reset_index()\n",
    "result.columns=['user_id', 'actual']\n",
    "result.head(2)"
   ]
  },
  {
   "cell_type": "code",
   "execution_count": 5,
   "metadata": {},
   "outputs": [
    {
     "name": "stdout",
     "output_type": "stream",
     "text": [
      "Decreased # items from 86865 to 5001\n"
     ]
    }
   ],
   "source": [
    "n_items_before = data_train['item_id'].nunique()\n",
    "\n",
    "filtered_items = item_features.loc[item_features['department'] == 'MISC. TRANS.', 'item_id'].tolist()\n",
    "\n",
    "data_train = prefilter_items(data_train, filter_top_popular=5000,\n",
    "                                exclude_top_popular=None, \n",
    "                                exclude_top_unpopular=None,\n",
    "                                exclude_not_sold_weeks=None,\n",
    "                                exclude_items=None,\n",
    "                                exclude_cheaper_than = None,\n",
    "                                exclude_more_expensive_than=None\n",
    "                               )\n",
    "\n",
    "n_items_after = data_train['item_id'].nunique()\n",
    "print('Decreased # items from {} to {}'.format(n_items_before, n_items_after))"
   ]
  },
  {
   "cell_type": "code",
   "execution_count": 6,
   "metadata": {},
   "outputs": [
    {
     "data": {
      "text/html": [
       "<div>\n",
       "<style scoped>\n",
       "    .dataframe tbody tr th:only-of-type {\n",
       "        vertical-align: middle;\n",
       "    }\n",
       "\n",
       "    .dataframe tbody tr th {\n",
       "        vertical-align: top;\n",
       "    }\n",
       "\n",
       "    .dataframe thead th {\n",
       "        text-align: right;\n",
       "    }\n",
       "</style>\n",
       "<table border=\"1\" class=\"dataframe\">\n",
       "  <thead>\n",
       "    <tr style=\"text-align: right;\">\n",
       "      <th>item_id</th>\n",
       "      <th>202291</th>\n",
       "      <th>397896</th>\n",
       "      <th>420647</th>\n",
       "      <th>480014</th>\n",
       "      <th>545926</th>\n",
       "      <th>707683</th>\n",
       "      <th>731106</th>\n",
       "      <th>818980</th>\n",
       "      <th>819063</th>\n",
       "      <th>819227</th>\n",
       "      <th>...</th>\n",
       "      <th>15778533</th>\n",
       "      <th>15831255</th>\n",
       "      <th>15926712</th>\n",
       "      <th>15926775</th>\n",
       "      <th>15926844</th>\n",
       "      <th>15926886</th>\n",
       "      <th>15927403</th>\n",
       "      <th>15927661</th>\n",
       "      <th>15927850</th>\n",
       "      <th>16809471</th>\n",
       "    </tr>\n",
       "    <tr>\n",
       "      <th>user_id</th>\n",
       "      <th></th>\n",
       "      <th></th>\n",
       "      <th></th>\n",
       "      <th></th>\n",
       "      <th></th>\n",
       "      <th></th>\n",
       "      <th></th>\n",
       "      <th></th>\n",
       "      <th></th>\n",
       "      <th></th>\n",
       "      <th></th>\n",
       "      <th></th>\n",
       "      <th></th>\n",
       "      <th></th>\n",
       "      <th></th>\n",
       "      <th></th>\n",
       "      <th></th>\n",
       "      <th></th>\n",
       "      <th></th>\n",
       "      <th></th>\n",
       "      <th></th>\n",
       "    </tr>\n",
       "  </thead>\n",
       "  <tbody>\n",
       "    <tr>\n",
       "      <th>1</th>\n",
       "      <td>0.0</td>\n",
       "      <td>0.0</td>\n",
       "      <td>0.0</td>\n",
       "      <td>0.0</td>\n",
       "      <td>0.0</td>\n",
       "      <td>0.0</td>\n",
       "      <td>0.0</td>\n",
       "      <td>0.0</td>\n",
       "      <td>0.0</td>\n",
       "      <td>0.0</td>\n",
       "      <td>...</td>\n",
       "      <td>0.0</td>\n",
       "      <td>0.0</td>\n",
       "      <td>0.0</td>\n",
       "      <td>0.0</td>\n",
       "      <td>1.0</td>\n",
       "      <td>0.0</td>\n",
       "      <td>0.0</td>\n",
       "      <td>0.0</td>\n",
       "      <td>0.0</td>\n",
       "      <td>0.0</td>\n",
       "    </tr>\n",
       "    <tr>\n",
       "      <th>2</th>\n",
       "      <td>0.0</td>\n",
       "      <td>0.0</td>\n",
       "      <td>0.0</td>\n",
       "      <td>0.0</td>\n",
       "      <td>0.0</td>\n",
       "      <td>0.0</td>\n",
       "      <td>0.0</td>\n",
       "      <td>0.0</td>\n",
       "      <td>0.0</td>\n",
       "      <td>0.0</td>\n",
       "      <td>...</td>\n",
       "      <td>0.0</td>\n",
       "      <td>0.0</td>\n",
       "      <td>0.0</td>\n",
       "      <td>0.0</td>\n",
       "      <td>0.0</td>\n",
       "      <td>0.0</td>\n",
       "      <td>0.0</td>\n",
       "      <td>0.0</td>\n",
       "      <td>0.0</td>\n",
       "      <td>0.0</td>\n",
       "    </tr>\n",
       "    <tr>\n",
       "      <th>3</th>\n",
       "      <td>0.0</td>\n",
       "      <td>0.0</td>\n",
       "      <td>0.0</td>\n",
       "      <td>0.0</td>\n",
       "      <td>0.0</td>\n",
       "      <td>0.0</td>\n",
       "      <td>0.0</td>\n",
       "      <td>0.0</td>\n",
       "      <td>0.0</td>\n",
       "      <td>0.0</td>\n",
       "      <td>...</td>\n",
       "      <td>0.0</td>\n",
       "      <td>0.0</td>\n",
       "      <td>0.0</td>\n",
       "      <td>0.0</td>\n",
       "      <td>0.0</td>\n",
       "      <td>0.0</td>\n",
       "      <td>0.0</td>\n",
       "      <td>0.0</td>\n",
       "      <td>0.0</td>\n",
       "      <td>0.0</td>\n",
       "    </tr>\n",
       "  </tbody>\n",
       "</table>\n",
       "<p>3 rows × 5001 columns</p>\n",
       "</div>"
      ],
      "text/plain": [
       "item_id  202291    397896    420647    480014    545926    707683    731106    \\\n",
       "user_id                                                                         \n",
       "1             0.0       0.0       0.0       0.0       0.0       0.0       0.0   \n",
       "2             0.0       0.0       0.0       0.0       0.0       0.0       0.0   \n",
       "3             0.0       0.0       0.0       0.0       0.0       0.0       0.0   \n",
       "\n",
       "item_id  818980    819063    819227    ...  15778533  15831255  15926712  \\\n",
       "user_id                                ...                                 \n",
       "1             0.0       0.0       0.0  ...       0.0       0.0       0.0   \n",
       "2             0.0       0.0       0.0  ...       0.0       0.0       0.0   \n",
       "3             0.0       0.0       0.0  ...       0.0       0.0       0.0   \n",
       "\n",
       "item_id  15926775  15926844  15926886  15927403  15927661  15927850  16809471  \n",
       "user_id                                                                        \n",
       "1             0.0       1.0       0.0       0.0       0.0       0.0       0.0  \n",
       "2             0.0       0.0       0.0       0.0       0.0       0.0       0.0  \n",
       "3             0.0       0.0       0.0       0.0       0.0       0.0       0.0  \n",
       "\n",
       "[3 rows x 5001 columns]"
      ]
     },
     "execution_count": 6,
     "metadata": {},
     "output_type": "execute_result"
    }
   ],
   "source": [
    "user_item_matrix = pd.pivot_table(data_train, \n",
    "                                  index='user_id', columns='item_id', \n",
    "                                  values='quantity', # Можно пробоват ьдругие варианты\n",
    "                                  aggfunc='count', \n",
    "                                  fill_value=0\n",
    "                                 )\n",
    "\n",
    "user_item_matrix = user_item_matrix.astype(float) # необходимый тип матрицы для implicit\n",
    "\n",
    "user_item_matrix.head(3)"
   ]
  },
  {
   "cell_type": "markdown",
   "metadata": {},
   "source": [
    "-----"
   ]
  },
  {
   "cell_type": "code",
   "execution_count": 7,
   "metadata": {},
   "outputs": [
    {
     "name": "stderr",
     "output_type": "stream",
     "text": [
      "WARNING:root:Intel MKL BLAS detected. Its highly recommend to set the environment variable 'export MKL_NUM_THREADS=1' to disable its internal multithreading\n"
     ]
    },
    {
     "data": {
      "application/vnd.jupyter.widget-view+json": {
       "model_id": "e79d243fbd60446b97f42519584a2b76",
       "version_major": 2,
       "version_minor": 0
      },
      "text/plain": [
       "HBox(children=(FloatProgress(value=0.0, max=15.0), HTML(value='')))"
      ]
     },
     "metadata": {},
     "output_type": "display_data"
    },
    {
     "name": "stdout",
     "output_type": "stream",
     "text": [
      "\n"
     ]
    },
    {
     "data": {
      "application/vnd.jupyter.widget-view+json": {
       "model_id": "4543153234a24091b3fef2dcf9bcac5c",
       "version_major": 2,
       "version_minor": 0
      },
      "text/plain": [
       "HBox(children=(FloatProgress(value=0.0, max=5001.0), HTML(value='')))"
      ]
     },
     "metadata": {},
     "output_type": "display_data"
    },
    {
     "name": "stdout",
     "output_type": "stream",
     "text": [
      "\n"
     ]
    }
   ],
   "source": [
    "model = MainRecommender(user_item_matrix, weighting=True, show_progress=True) "
   ]
  },
  {
   "cell_type": "code",
   "execution_count": 8,
   "metadata": {},
   "outputs": [],
   "source": [
    "result['own_recommends'] = result.apply(lambda row: model.get_own_recommends(user_id=row['user_id']), axis=1)"
   ]
  },
  {
   "cell_type": "code",
   "execution_count": 9,
   "metadata": {},
   "outputs": [
    {
     "name": "stdout",
     "output_type": "stream",
     "text": [
      "Wall time: 0 ns\n",
      "Error: Рекоммендаций меньше, чем ожидается. user_id: 75\n",
      "Error: Рекоммендаций меньше, чем ожидается. user_id: 650\n",
      "Error: Рекоммендаций меньше, чем ожидается. user_id: 729\n",
      "Error: Рекоммендаций меньше, чем ожидается. user_id: 954\n",
      "Error: Рекоммендаций меньше, чем ожидается. user_id: 1105\n",
      "Error: Рекоммендаций меньше, чем ожидается. user_id: 1539\n",
      "Error: Рекоммендаций меньше, чем ожидается. user_id: 1565\n",
      "Error: Рекоммендаций меньше, чем ожидается. user_id: 1636\n",
      "Error: Рекоммендаций меньше, чем ожидается. user_id: 1893\n",
      "Error: Рекоммендаций меньше, чем ожидается. user_id: 1984\n",
      "Error: Рекоммендаций меньше, чем ожидается. user_id: 1987\n",
      "Error: Рекоммендаций меньше, чем ожидается. user_id: 2120\n",
      "Error: Рекоммендаций меньше, чем ожидается. user_id: 2259\n",
      "Error: Рекоммендаций меньше, чем ожидается. user_id: 2355\n",
      "Error: Рекоммендаций меньше, чем ожидается. user_id: 2364\n",
      "Error: Рекоммендаций меньше, чем ожидается. user_id: 2373\n",
      "Error: Рекоммендаций меньше, чем ожидается. user_id: 2404\n"
     ]
    }
   ],
   "source": [
    "%time\n",
    "result['similar_items_recommends'] = result.apply(lambda row: model.get_similar_items_recommendation(user_id=row['user_id']), axis=1)"
   ]
  },
  {
   "cell_type": "code",
   "execution_count": 10,
   "metadata": {},
   "outputs": [
    {
     "name": "stdout",
     "output_type": "stream",
     "text": [
      "Wall time: 0 ns\n",
      "Error: Рекоммендаций меньше, чем ожидается. user_id: 13\n",
      "Error: Рекоммендаций меньше, чем ожидается. user_id: 33\n",
      "Error: Рекоммендаций меньше, чем ожидается. user_id: 58\n",
      "Error: Рекоммендаций меньше, чем ожидается. user_id: 63\n",
      "Error: Рекоммендаций меньше, чем ожидается. user_id: 68\n",
      "Error: Рекоммендаций меньше, чем ожидается. user_id: 75\n",
      "Error: Рекоммендаций меньше, чем ожидается. user_id: 125\n",
      "Error: Рекоммендаций меньше, чем ожидается. user_id: 155\n",
      "Error: Рекоммендаций меньше, чем ожидается. user_id: 183\n",
      "Error: Рекоммендаций меньше, чем ожидается. user_id: 194\n",
      "Error: Рекоммендаций меньше, чем ожидается. user_id: 205\n",
      "Error: Рекоммендаций меньше, чем ожидается. user_id: 226\n",
      "Error: Рекоммендаций меньше, чем ожидается. user_id: 230\n",
      "Error: Рекоммендаций меньше, чем ожидается. user_id: 240\n",
      "Error: Рекоммендаций меньше, чем ожидается. user_id: 245\n",
      "Error: Рекоммендаций меньше, чем ожидается. user_id: 249\n",
      "Error: Рекоммендаций меньше, чем ожидается. user_id: 251\n",
      "Error: Рекоммендаций меньше, чем ожидается. user_id: 257\n",
      "Error: Рекоммендаций меньше, чем ожидается. user_id: 258\n",
      "Error: Рекоммендаций меньше, чем ожидается. user_id: 322\n",
      "Error: Рекоммендаций меньше, чем ожидается. user_id: 324\n",
      "Error: Рекоммендаций меньше, чем ожидается. user_id: 332\n",
      "Error: Рекоммендаций меньше, чем ожидается. user_id: 334\n",
      "Error: Рекоммендаций меньше, чем ожидается. user_id: 335\n",
      "Error: Рекоммендаций меньше, чем ожидается. user_id: 338\n",
      "Error: Рекоммендаций меньше, чем ожидается. user_id: 346\n",
      "Error: Рекоммендаций меньше, чем ожидается. user_id: 347\n",
      "Error: Рекоммендаций меньше, чем ожидается. user_id: 362\n",
      "Error: Рекоммендаций меньше, чем ожидается. user_id: 375\n",
      "Error: Рекоммендаций меньше, чем ожидается. user_id: 377\n",
      "Error: Рекоммендаций меньше, чем ожидается. user_id: 389\n",
      "Error: Рекоммендаций меньше, чем ожидается. user_id: 394\n",
      "Error: Рекоммендаций меньше, чем ожидается. user_id: 406\n",
      "Error: Рекоммендаций меньше, чем ожидается. user_id: 434\n",
      "Error: Рекоммендаций меньше, чем ожидается. user_id: 437\n",
      "Error: Рекоммендаций меньше, чем ожидается. user_id: 442\n",
      "Error: Рекоммендаций меньше, чем ожидается. user_id: 451\n",
      "Error: Рекоммендаций меньше, чем ожидается. user_id: 452\n",
      "Error: Рекоммендаций меньше, чем ожидается. user_id: 454\n",
      "Error: Рекоммендаций меньше, чем ожидается. user_id: 460\n",
      "Error: Рекоммендаций меньше, чем ожидается. user_id: 466\n",
      "Error: Рекоммендаций меньше, чем ожидается. user_id: 479\n",
      "Error: Рекоммендаций меньше, чем ожидается. user_id: 487\n",
      "Error: Рекоммендаций меньше, чем ожидается. user_id: 491\n",
      "Error: Рекоммендаций меньше, чем ожидается. user_id: 498\n",
      "Error: Рекоммендаций меньше, чем ожидается. user_id: 510\n",
      "Error: Рекоммендаций меньше, чем ожидается. user_id: 515\n",
      "Error: Рекоммендаций меньше, чем ожидается. user_id: 517\n",
      "Error: Рекоммендаций меньше, чем ожидается. user_id: 524\n",
      "Error: Рекоммендаций меньше, чем ожидается. user_id: 525\n",
      "Error: Рекоммендаций меньше, чем ожидается. user_id: 541\n",
      "Error: Рекоммендаций меньше, чем ожидается. user_id: 569\n",
      "Error: Рекоммендаций меньше, чем ожидается. user_id: 580\n",
      "Error: Рекоммендаций меньше, чем ожидается. user_id: 587\n",
      "Error: Рекоммендаций меньше, чем ожидается. user_id: 591\n",
      "Error: Рекоммендаций меньше, чем ожидается. user_id: 650\n",
      "Error: Рекоммендаций меньше, чем ожидается. user_id: 652\n",
      "Error: Рекоммендаций меньше, чем ожидается. user_id: 656\n",
      "Error: Рекоммендаций меньше, чем ожидается. user_id: 673\n",
      "Error: Рекоммендаций меньше, чем ожидается. user_id: 697\n",
      "Error: Рекоммендаций меньше, чем ожидается. user_id: 726\n",
      "Error: Рекоммендаций меньше, чем ожидается. user_id: 728\n",
      "Error: Рекоммендаций меньше, чем ожидается. user_id: 729\n",
      "Error: Рекоммендаций меньше, чем ожидается. user_id: 731\n",
      "Error: Рекоммендаций меньше, чем ожидается. user_id: 737\n",
      "Error: Рекоммендаций меньше, чем ожидается. user_id: 740\n",
      "Error: Рекоммендаций меньше, чем ожидается. user_id: 742\n",
      "Error: Рекоммендаций меньше, чем ожидается. user_id: 771\n",
      "Error: Рекоммендаций меньше, чем ожидается. user_id: 786\n",
      "Error: Рекоммендаций меньше, чем ожидается. user_id: 788\n",
      "Error: Рекоммендаций меньше, чем ожидается. user_id: 795\n",
      "Error: Рекоммендаций меньше, чем ожидается. user_id: 804\n",
      "Error: Рекоммендаций меньше, чем ожидается. user_id: 816\n",
      "Error: Рекоммендаций меньше, чем ожидается. user_id: 829\n",
      "Error: Рекоммендаций меньше, чем ожидается. user_id: 841\n",
      "Error: Рекоммендаций меньше, чем ожидается. user_id: 859\n",
      "Error: Рекоммендаций меньше, чем ожидается. user_id: 873\n",
      "Error: Рекоммендаций меньше, чем ожидается. user_id: 875\n",
      "Error: Рекоммендаций меньше, чем ожидается. user_id: 877\n",
      "Error: Рекоммендаций меньше, чем ожидается. user_id: 883\n",
      "Error: Рекоммендаций меньше, чем ожидается. user_id: 889\n",
      "Error: Рекоммендаций меньше, чем ожидается. user_id: 893\n",
      "Error: Рекоммендаций меньше, чем ожидается. user_id: 911\n",
      "Error: Рекоммендаций меньше, чем ожидается. user_id: 913\n",
      "Error: Рекоммендаций меньше, чем ожидается. user_id: 925\n",
      "Error: Рекоммендаций меньше, чем ожидается. user_id: 940\n",
      "Error: Рекоммендаций меньше, чем ожидается. user_id: 954\n",
      "Error: Рекоммендаций меньше, чем ожидается. user_id: 968\n",
      "Error: Рекоммендаций меньше, чем ожидается. user_id: 971\n",
      "Error: Рекоммендаций меньше, чем ожидается. user_id: 976\n",
      "Error: Рекоммендаций меньше, чем ожидается. user_id: 979\n",
      "Error: Рекоммендаций меньше, чем ожидается. user_id: 984\n",
      "Error: Рекоммендаций меньше, чем ожидается. user_id: 989\n",
      "Error: Рекоммендаций меньше, чем ожидается. user_id: 992\n",
      "Error: Рекоммендаций меньше, чем ожидается. user_id: 1004\n",
      "Error: Рекоммендаций меньше, чем ожидается. user_id: 1021\n",
      "Error: Рекоммендаций меньше, чем ожидается. user_id: 1023\n",
      "Error: Рекоммендаций меньше, чем ожидается. user_id: 1024\n",
      "Error: Рекоммендаций меньше, чем ожидается. user_id: 1039\n",
      "Error: Рекоммендаций меньше, чем ожидается. user_id: 1041\n",
      "Error: Рекоммендаций меньше, чем ожидается. user_id: 1091\n",
      "Error: Рекоммендаций меньше, чем ожидается. user_id: 1099\n",
      "Error: Рекоммендаций меньше, чем ожидается. user_id: 1111\n",
      "Error: Рекоммендаций меньше, чем ожидается. user_id: 1113\n",
      "Error: Рекоммендаций меньше, чем ожидается. user_id: 1125\n",
      "Error: Рекоммендаций меньше, чем ожидается. user_id: 1127\n",
      "Error: Рекоммендаций меньше, чем ожидается. user_id: 1133\n",
      "Error: Рекоммендаций меньше, чем ожидается. user_id: 1134\n",
      "Error: Рекоммендаций меньше, чем ожидается. user_id: 1137\n",
      "Error: Рекоммендаций меньше, чем ожидается. user_id: 1167\n",
      "Error: Рекоммендаций меньше, чем ожидается. user_id: 1180\n",
      "Error: Рекоммендаций меньше, чем ожидается. user_id: 1181\n",
      "Error: Рекоммендаций меньше, чем ожидается. user_id: 1189\n",
      "Error: Рекоммендаций меньше, чем ожидается. user_id: 1228\n",
      "Error: Рекоммендаций меньше, чем ожидается. user_id: 1231\n",
      "Error: Рекоммендаций меньше, чем ожидается. user_id: 1247\n",
      "Error: Рекоммендаций меньше, чем ожидается. user_id: 1254\n",
      "Error: Рекоммендаций меньше, чем ожидается. user_id: 1264\n",
      "Error: Рекоммендаций меньше, чем ожидается. user_id: 1270\n",
      "Error: Рекоммендаций меньше, чем ожидается. user_id: 1272\n",
      "Error: Рекоммендаций меньше, чем ожидается. user_id: 1276\n",
      "Error: Рекоммендаций меньше, чем ожидается. user_id: 1289\n",
      "Error: Рекоммендаций меньше, чем ожидается. user_id: 1319\n",
      "Error: Рекоммендаций меньше, чем ожидается. user_id: 1321\n",
      "Error: Рекоммендаций меньше, чем ожидается. user_id: 1326\n",
      "Error: Рекоммендаций меньше, чем ожидается. user_id: 1334\n",
      "Error: Рекоммендаций меньше, чем ожидается. user_id: 1354\n",
      "Error: Рекоммендаций меньше, чем ожидается. user_id: 1356\n",
      "Error: Рекоммендаций меньше, чем ожидается. user_id: 1364\n",
      "Error: Рекоммендаций меньше, чем ожидается. user_id: 1385\n",
      "Error: Рекоммендаций меньше, чем ожидается. user_id: 1394\n",
      "Error: Рекоммендаций меньше, чем ожидается. user_id: 1418\n",
      "Error: Рекоммендаций меньше, чем ожидается. user_id: 1424\n",
      "Error: Рекоммендаций меньше, чем ожидается. user_id: 1433\n",
      "Error: Рекоммендаций меньше, чем ожидается. user_id: 1440\n",
      "Error: Рекоммендаций меньше, чем ожидается. user_id: 1450\n",
      "Error: Рекоммендаций меньше, чем ожидается. user_id: 1451\n",
      "Error: Рекоммендаций меньше, чем ожидается. user_id: 1452\n",
      "Error: Рекоммендаций меньше, чем ожидается. user_id: 1462\n",
      "Error: Рекоммендаций меньше, чем ожидается. user_id: 1463\n",
      "Error: Рекоммендаций меньше, чем ожидается. user_id: 1466\n",
      "Error: Рекоммендаций меньше, чем ожидается. user_id: 1474\n"
     ]
    },
    {
     "name": "stdout",
     "output_type": "stream",
     "text": [
      "Error: Рекоммендаций меньше, чем ожидается. user_id: 1475\n",
      "Error: Рекоммендаций меньше, чем ожидается. user_id: 1487\n",
      "Error: Рекоммендаций меньше, чем ожидается. user_id: 1489\n",
      "Error: Рекоммендаций меньше, чем ожидается. user_id: 1491\n",
      "Error: Рекоммендаций меньше, чем ожидается. user_id: 1496\n",
      "Error: Рекоммендаций меньше, чем ожидается. user_id: 1505\n",
      "Error: Рекоммендаций меньше, чем ожидается. user_id: 1508\n",
      "Error: Рекоммендаций меньше, чем ожидается. user_id: 1519\n",
      "Error: Рекоммендаций меньше, чем ожидается. user_id: 1525\n",
      "Error: Рекоммендаций меньше, чем ожидается. user_id: 1534\n",
      "Error: Рекоммендаций меньше, чем ожидается. user_id: 1535\n",
      "Error: Рекоммендаций меньше, чем ожидается. user_id: 1536\n",
      "Error: Рекоммендаций меньше, чем ожидается. user_id: 1556\n",
      "Error: Рекоммендаций меньше, чем ожидается. user_id: 1557\n",
      "Error: Рекоммендаций меньше, чем ожидается. user_id: 1565\n",
      "Error: Рекоммендаций меньше, чем ожидается. user_id: 1572\n",
      "Error: Рекоммендаций меньше, чем ожидается. user_id: 1575\n",
      "Error: Рекоммендаций меньше, чем ожидается. user_id: 1579\n",
      "Error: Рекоммендаций меньше, чем ожидается. user_id: 1587\n",
      "Error: Рекоммендаций меньше, чем ожидается. user_id: 1598\n",
      "Error: Рекоммендаций меньше, чем ожидается. user_id: 1599\n",
      "Error: Рекоммендаций меньше, чем ожидается. user_id: 1602\n",
      "Error: Рекоммендаций меньше, чем ожидается. user_id: 1612\n",
      "Error: Рекоммендаций меньше, чем ожидается. user_id: 1630\n",
      "Error: Рекоммендаций меньше, чем ожидается. user_id: 1638\n",
      "Error: Рекоммендаций меньше, чем ожидается. user_id: 1664\n",
      "Error: Рекоммендаций меньше, чем ожидается. user_id: 1681\n",
      "Error: Рекоммендаций меньше, чем ожидается. user_id: 1710\n",
      "Error: Рекоммендаций меньше, чем ожидается. user_id: 1713\n",
      "Error: Рекоммендаций меньше, чем ожидается. user_id: 1731\n",
      "Error: Рекоммендаций меньше, чем ожидается. user_id: 1743\n",
      "Error: Рекоммендаций меньше, чем ожидается. user_id: 1755\n",
      "Error: Рекоммендаций меньше, чем ожидается. user_id: 1760\n",
      "Error: Рекоммендаций меньше, чем ожидается. user_id: 1782\n",
      "Error: Рекоммендаций меньше, чем ожидается. user_id: 1788\n",
      "Error: Рекоммендаций меньше, чем ожидается. user_id: 1800\n",
      "Error: Рекоммендаций меньше, чем ожидается. user_id: 1808\n",
      "Error: Рекоммендаций меньше, чем ожидается. user_id: 1826\n",
      "Error: Рекоммендаций меньше, чем ожидается. user_id: 1831\n",
      "Error: Рекоммендаций меньше, чем ожидается. user_id: 1835\n",
      "Error: Рекоммендаций меньше, чем ожидается. user_id: 1841\n",
      "Error: Рекоммендаций меньше, чем ожидается. user_id: 1845\n",
      "Error: Рекоммендаций меньше, чем ожидается. user_id: 1869\n",
      "Error: Рекоммендаций меньше, чем ожидается. user_id: 1877\n",
      "Error: Рекоммендаций меньше, чем ожидается. user_id: 1879\n",
      "Error: Рекоммендаций меньше, чем ожидается. user_id: 1909\n",
      "Error: Рекоммендаций меньше, чем ожидается. user_id: 1925\n",
      "Error: Рекоммендаций меньше, чем ожидается. user_id: 1927\n",
      "Error: Рекоммендаций меньше, чем ожидается. user_id: 1935\n",
      "Error: Рекоммендаций меньше, чем ожидается. user_id: 1936\n",
      "Error: Рекоммендаций меньше, чем ожидается. user_id: 1941\n",
      "Error: Рекоммендаций меньше, чем ожидается. user_id: 1950\n",
      "Error: Рекоммендаций меньше, чем ожидается. user_id: 1954\n",
      "Error: Рекоммендаций меньше, чем ожидается. user_id: 1962\n",
      "Error: Рекоммендаций меньше, чем ожидается. user_id: 1966\n",
      "Error: Рекоммендаций меньше, чем ожидается. user_id: 1984\n",
      "Error: Рекоммендаций меньше, чем ожидается. user_id: 1985\n",
      "Error: Рекоммендаций меньше, чем ожидается. user_id: 1987\n",
      "Error: Рекоммендаций меньше, чем ожидается. user_id: 1998\n",
      "Error: Рекоммендаций меньше, чем ожидается. user_id: 2000\n",
      "Error: Рекоммендаций меньше, чем ожидается. user_id: 2010\n",
      "Error: Рекоммендаций меньше, чем ожидается. user_id: 2029\n",
      "Error: Рекоммендаций меньше, чем ожидается. user_id: 2053\n",
      "Error: Рекоммендаций меньше, чем ожидается. user_id: 2068\n",
      "Error: Рекоммендаций меньше, чем ожидается. user_id: 2070\n",
      "Error: Рекоммендаций меньше, чем ожидается. user_id: 2083\n",
      "Error: Рекоммендаций меньше, чем ожидается. user_id: 2085\n",
      "Error: Рекоммендаций меньше, чем ожидается. user_id: 2101\n",
      "Error: Рекоммендаций меньше, чем ожидается. user_id: 2102\n",
      "Error: Рекоммендаций меньше, чем ожидается. user_id: 2110\n",
      "Error: Рекоммендаций меньше, чем ожидается. user_id: 2114\n",
      "Error: Рекоммендаций меньше, чем ожидается. user_id: 2120\n",
      "Error: Рекоммендаций меньше, чем ожидается. user_id: 2123\n",
      "Error: Рекоммендаций меньше, чем ожидается. user_id: 2137\n",
      "Error: Рекоммендаций меньше, чем ожидается. user_id: 2192\n",
      "Error: Рекоммендаций меньше, чем ожидается. user_id: 2199\n",
      "Error: Рекоммендаций меньше, чем ожидается. user_id: 2200\n",
      "Error: Рекоммендаций меньше, чем ожидается. user_id: 2208\n",
      "Error: Рекоммендаций меньше, чем ожидается. user_id: 2211\n",
      "Error: Рекоммендаций меньше, чем ожидается. user_id: 2215\n",
      "Error: Рекоммендаций меньше, чем ожидается. user_id: 2223\n",
      "Error: Рекоммендаций меньше, чем ожидается. user_id: 2263\n",
      "Error: Рекоммендаций меньше, чем ожидается. user_id: 2266\n",
      "Error: Рекоммендаций меньше, чем ожидается. user_id: 2286\n",
      "Error: Рекоммендаций меньше, чем ожидается. user_id: 2308\n",
      "Error: Рекоммендаций меньше, чем ожидается. user_id: 2317\n",
      "Error: Рекоммендаций меньше, чем ожидается. user_id: 2319\n",
      "Error: Рекоммендаций меньше, чем ожидается. user_id: 2322\n",
      "Error: Рекоммендаций меньше, чем ожидается. user_id: 2334\n",
      "Error: Рекоммендаций меньше, чем ожидается. user_id: 2339\n",
      "Error: Рекоммендаций меньше, чем ожидается. user_id: 2353\n",
      "Error: Рекоммендаций меньше, чем ожидается. user_id: 2364\n",
      "Error: Рекоммендаций меньше, чем ожидается. user_id: 2371\n",
      "Error: Рекоммендаций меньше, чем ожидается. user_id: 2373\n",
      "Error: Рекоммендаций меньше, чем ожидается. user_id: 2412\n",
      "Error: Рекоммендаций меньше, чем ожидается. user_id: 2421\n",
      "Error: Рекоммендаций меньше, чем ожидается. user_id: 2438\n",
      "Error: Рекоммендаций меньше, чем ожидается. user_id: 2454\n",
      "Error: Рекоммендаций меньше, чем ожидается. user_id: 2462\n",
      "Error: Рекоммендаций меньше, чем ожидается. user_id: 2464\n",
      "Error: Рекоммендаций меньше, чем ожидается. user_id: 2467\n",
      "Error: Рекоммендаций меньше, чем ожидается. user_id: 2469\n",
      "Error: Рекоммендаций меньше, чем ожидается. user_id: 2474\n",
      "Error: Рекоммендаций меньше, чем ожидается. user_id: 2479\n",
      "Error: Рекоммендаций меньше, чем ожидается. user_id: 2489\n",
      "Error: Рекоммендаций меньше, чем ожидается. user_id: 2495\n"
     ]
    }
   ],
   "source": [
    "%time\n",
    "result['similar_users_recommends'] = result.apply(lambda row: model.get_similar_users_recommendation(user_id=row['user_id']), axis=1)\n"
   ]
  },
  {
   "cell_type": "code",
   "execution_count": 11,
   "metadata": {},
   "outputs": [
    {
     "data": {
      "text/html": [
       "<div>\n",
       "<style scoped>\n",
       "    .dataframe tbody tr th:only-of-type {\n",
       "        vertical-align: middle;\n",
       "    }\n",
       "\n",
       "    .dataframe tbody tr th {\n",
       "        vertical-align: top;\n",
       "    }\n",
       "\n",
       "    .dataframe thead th {\n",
       "        text-align: right;\n",
       "    }\n",
       "</style>\n",
       "<table border=\"1\" class=\"dataframe\">\n",
       "  <thead>\n",
       "    <tr style=\"text-align: right;\">\n",
       "      <th></th>\n",
       "      <th>user_id</th>\n",
       "      <th>actual</th>\n",
       "      <th>own_recommends</th>\n",
       "      <th>similar_items_recommends</th>\n",
       "      <th>similar_users_recommends</th>\n",
       "    </tr>\n",
       "  </thead>\n",
       "  <tbody>\n",
       "    <tr>\n",
       "      <th>0</th>\n",
       "      <td>1</td>\n",
       "      <td>[821867, 834484, 856942, 865456, 889248, 90795...</td>\n",
       "      <td>[9527290, 1043064, 1082185, 1075074, 10149640]</td>\n",
       "      <td>[15926844, 845262, 866211, 993441, 13877192]</td>\n",
       "      <td>[9527290, 1056509, 1098066, 1023958, 1070820]</td>\n",
       "    </tr>\n",
       "    <tr>\n",
       "      <th>1</th>\n",
       "      <td>3</td>\n",
       "      <td>[835476, 851057, 872021, 878302, 879948, 90963...</td>\n",
       "      <td>[1092026, 1053690, 9527494, 1092937, 9337581]</td>\n",
       "      <td>[1076875, 1092026, 9527160, 832442, 1008892]</td>\n",
       "      <td>[1092026, 1053690, 1110764, 1113588, 995785]</td>\n",
       "    </tr>\n",
       "  </tbody>\n",
       "</table>\n",
       "</div>"
      ],
      "text/plain": [
       "   user_id                                             actual  \\\n",
       "0        1  [821867, 834484, 856942, 865456, 889248, 90795...   \n",
       "1        3  [835476, 851057, 872021, 878302, 879948, 90963...   \n",
       "\n",
       "                                   own_recommends  \\\n",
       "0  [9527290, 1043064, 1082185, 1075074, 10149640]   \n",
       "1   [1092026, 1053690, 9527494, 1092937, 9337581]   \n",
       "\n",
       "                       similar_items_recommends  \\\n",
       "0  [15926844, 845262, 866211, 993441, 13877192]   \n",
       "1  [1076875, 1092026, 9527160, 832442, 1008892]   \n",
       "\n",
       "                        similar_users_recommends  \n",
       "0  [9527290, 1056509, 1098066, 1023958, 1070820]  \n",
       "1   [1092026, 1053690, 1110764, 1113588, 995785]  "
      ]
     },
     "execution_count": 11,
     "metadata": {},
     "output_type": "execute_result"
    }
   ],
   "source": [
    "result.head(2)"
   ]
  },
  {
   "cell_type": "code",
   "execution_count": 12,
   "metadata": {},
   "outputs": [
    {
     "name": "stderr",
     "output_type": "stream",
     "text": [
      "C:\\Users\\avale\\jupiter_notebooks\\gb3sm-recomended-systems\\Lesson4\\src\\metrics.py:24: RuntimeWarning: invalid value encountered in long_scalars\n",
      "  precision = flags.sum() / len(recommended_list)\n"
     ]
    },
    {
     "data": {
      "text/plain": [
       "0.28815142576204394"
      ]
     },
     "execution_count": 12,
     "metadata": {},
     "output_type": "execute_result"
    }
   ],
   "source": [
    "result.apply(lambda row: precision_at_k(row['own_recommends'], row['actual']), axis=1).mean()"
   ]
  },
  {
   "cell_type": "code",
   "execution_count": 13,
   "metadata": {},
   "outputs": [
    {
     "data": {
      "text/plain": [
       "0.07079646017699134"
      ]
     },
     "execution_count": 13,
     "metadata": {},
     "output_type": "execute_result"
    }
   ],
   "source": [
    "result.apply(lambda row: precision_at_k(row['similar_items_recommends'], row['actual']), axis=1).mean()"
   ]
  },
  {
   "cell_type": "code",
   "execution_count": 14,
   "metadata": {},
   "outputs": [
    {
     "data": {
      "text/plain": [
       "0.12250000000000003"
      ]
     },
     "execution_count": 14,
     "metadata": {},
     "output_type": "execute_result"
    }
   ],
   "source": [
    "result.head(20).apply(lambda row: precision_at_k(row['similar_users_recommends'], row['actual']), axis=1).mean()"
   ]
  },
  {
   "cell_type": "code",
   "execution_count": null,
   "metadata": {},
   "outputs": [],
   "source": []
  }
 ],
 "metadata": {
  "kernelspec": {
   "display_name": "Python 3",
   "language": "python",
   "name": "python3"
  },
  "language_info": {
   "codemirror_mode": {
    "name": "ipython",
    "version": 3
   },
   "file_extension": ".py",
   "mimetype": "text/x-python",
   "name": "python",
   "nbconvert_exporter": "python",
   "pygments_lexer": "ipython3",
   "version": "3.8.3"
  }
 },
 "nbformat": 4,
 "nbformat_minor": 2
}
